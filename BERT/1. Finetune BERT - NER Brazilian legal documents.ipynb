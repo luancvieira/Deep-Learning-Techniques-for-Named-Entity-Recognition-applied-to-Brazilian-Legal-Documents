{
  "cells": [
    {
      "cell_type": "code",
      "execution_count": 1,
      "metadata": {
        "colab": {
          "base_uri": "https://localhost:8080/"
        },
        "id": "-1gSevCoYB-e",
        "outputId": "7068806b-24a6-4a8b-8fe2-3736889c7a32"
      },
      "outputs": [
        {
          "name": "stdout",
          "output_type": "stream",
          "text": [
            "Requirement already satisfied: transformers in c:\\users\\luanc\\appdata\\local\\programs\\python\\python310\\lib\\site-packages (4.30.2)\n",
            "Requirement already satisfied: datasets in c:\\users\\luanc\\appdata\\local\\programs\\python\\python310\\lib\\site-packages (2.12.0)\n",
            "Requirement already satisfied: evaluate in c:\\users\\luanc\\appdata\\local\\programs\\python\\python310\\lib\\site-packages (0.4.0)\n",
            "Requirement already satisfied: seqeval in c:\\users\\luanc\\appdata\\local\\programs\\python\\python310\\lib\\site-packages (1.2.2)\n",
            "Requirement already satisfied: filelock in c:\\users\\luanc\\appdata\\local\\programs\\python\\python310\\lib\\site-packages (from transformers) (3.12.1)\n",
            "Requirement already satisfied: huggingface-hub<1.0,>=0.14.1 in c:\\users\\luanc\\appdata\\local\\programs\\python\\python310\\lib\\site-packages (from transformers) (0.15.1)\n",
            "Requirement already satisfied: numpy>=1.17 in c:\\users\\luanc\\appdata\\local\\programs\\python\\python310\\lib\\site-packages (from transformers) (1.23.5)\n",
            "Requirement already satisfied: packaging>=20.0 in c:\\users\\luanc\\appdata\\roaming\\python\\python310\\site-packages (from transformers) (23.1)\n",
            "Requirement already satisfied: pyyaml>=5.1 in c:\\users\\luanc\\appdata\\local\\programs\\python\\python310\\lib\\site-packages (from transformers) (6.0)\n",
            "Requirement already satisfied: regex!=2019.12.17 in c:\\users\\luanc\\appdata\\local\\programs\\python\\python310\\lib\\site-packages (from transformers) (2023.5.5)\n",
            "Requirement already satisfied: requests in c:\\users\\luanc\\appdata\\local\\programs\\python\\python310\\lib\\site-packages (from transformers) (2.31.0)\n",
            "Requirement already satisfied: tokenizers!=0.11.3,<0.14,>=0.11.1 in c:\\users\\luanc\\appdata\\local\\programs\\python\\python310\\lib\\site-packages (from transformers) (0.13.3)\n",
            "Requirement already satisfied: safetensors>=0.3.1 in c:\\users\\luanc\\appdata\\local\\programs\\python\\python310\\lib\\site-packages (from transformers) (0.3.1)\n",
            "Requirement already satisfied: tqdm>=4.27 in c:\\users\\luanc\\appdata\\local\\programs\\python\\python310\\lib\\site-packages (from transformers) (4.65.0)\n",
            "Requirement already satisfied: pyarrow>=8.0.0 in c:\\users\\luanc\\appdata\\local\\programs\\python\\python310\\lib\\site-packages (from datasets) (12.0.0)\n",
            "Requirement already satisfied: dill<0.3.7,>=0.3.0 in c:\\users\\luanc\\appdata\\local\\programs\\python\\python310\\lib\\site-packages (from datasets) (0.3.6)\n",
            "Requirement already satisfied: pandas in c:\\users\\luanc\\appdata\\local\\programs\\python\\python310\\lib\\site-packages (from datasets) (2.0.1)\n",
            "Requirement already satisfied: xxhash in c:\\users\\luanc\\appdata\\local\\programs\\python\\python310\\lib\\site-packages (from datasets) (3.2.0)\n",
            "Requirement already satisfied: multiprocess in c:\\users\\luanc\\appdata\\local\\programs\\python\\python310\\lib\\site-packages (from datasets) (0.70.14)\n",
            "Requirement already satisfied: fsspec[http]>=2021.11.1 in c:\\users\\luanc\\appdata\\local\\programs\\python\\python310\\lib\\site-packages (from datasets) (2023.6.0)\n",
            "Requirement already satisfied: aiohttp in c:\\users\\luanc\\appdata\\local\\programs\\python\\python310\\lib\\site-packages (from datasets) (3.8.4)\n",
            "Requirement already satisfied: responses<0.19 in c:\\users\\luanc\\appdata\\local\\programs\\python\\python310\\lib\\site-packages (from datasets) (0.18.0)\n",
            "Requirement already satisfied: scikit-learn>=0.21.3 in c:\\users\\luanc\\appdata\\local\\programs\\python\\python310\\lib\\site-packages (from seqeval) (1.2.2)\n",
            "Requirement already satisfied: attrs>=17.3.0 in c:\\users\\luanc\\appdata\\local\\programs\\python\\python310\\lib\\site-packages (from aiohttp->datasets) (23.1.0)\n",
            "Requirement already satisfied: charset-normalizer<4.0,>=2.0 in c:\\users\\luanc\\appdata\\local\\programs\\python\\python310\\lib\\site-packages (from aiohttp->datasets) (3.1.0)\n",
            "Requirement already satisfied: multidict<7.0,>=4.5 in c:\\users\\luanc\\appdata\\local\\programs\\python\\python310\\lib\\site-packages (from aiohttp->datasets) (6.0.4)\n",
            "Requirement already satisfied: async-timeout<5.0,>=4.0.0a3 in c:\\users\\luanc\\appdata\\local\\programs\\python\\python310\\lib\\site-packages (from aiohttp->datasets) (4.0.2)\n",
            "Requirement already satisfied: yarl<2.0,>=1.0 in c:\\users\\luanc\\appdata\\local\\programs\\python\\python310\\lib\\site-packages (from aiohttp->datasets) (1.9.2)\n",
            "Requirement already satisfied: frozenlist>=1.1.1 in c:\\users\\luanc\\appdata\\local\\programs\\python\\python310\\lib\\site-packages (from aiohttp->datasets) (1.3.3)\n",
            "Requirement already satisfied: aiosignal>=1.1.2 in c:\\users\\luanc\\appdata\\local\\programs\\python\\python310\\lib\\site-packages (from aiohttp->datasets) (1.3.1)\n",
            "Requirement already satisfied: typing-extensions>=3.7.4.3 in c:\\users\\luanc\\appdata\\local\\programs\\python\\python310\\lib\\site-packages (from huggingface-hub<1.0,>=0.14.1->transformers) (4.6.3)\n",
            "Requirement already satisfied: idna<4,>=2.5 in c:\\users\\luanc\\appdata\\local\\programs\\python\\python310\\lib\\site-packages (from requests->transformers) (3.4)\n",
            "Requirement already satisfied: urllib3<3,>=1.21.1 in c:\\users\\luanc\\appdata\\local\\programs\\python\\python310\\lib\\site-packages (from requests->transformers) (1.26.16)\n",
            "Requirement already satisfied: certifi>=2017.4.17 in c:\\users\\luanc\\appdata\\local\\programs\\python\\python310\\lib\\site-packages (from requests->transformers) (2023.5.7)\n",
            "Requirement already satisfied: scipy>=1.3.2 in c:\\users\\luanc\\appdata\\local\\programs\\python\\python310\\lib\\site-packages (from scikit-learn>=0.21.3->seqeval) (1.10.1)\n",
            "Requirement already satisfied: joblib>=1.1.1 in c:\\users\\luanc\\appdata\\local\\programs\\python\\python310\\lib\\site-packages (from scikit-learn>=0.21.3->seqeval) (1.2.0)\n",
            "Requirement already satisfied: threadpoolctl>=2.0.0 in c:\\users\\luanc\\appdata\\local\\programs\\python\\python310\\lib\\site-packages (from scikit-learn>=0.21.3->seqeval) (3.1.0)\n",
            "Requirement already satisfied: colorama in c:\\users\\luanc\\appdata\\local\\programs\\python\\python310\\lib\\site-packages (from tqdm>=4.27->transformers) (0.4.6)\n",
            "Requirement already satisfied: python-dateutil>=2.8.2 in c:\\users\\luanc\\appdata\\roaming\\python\\python310\\site-packages (from pandas->datasets) (2.8.2)\n",
            "Requirement already satisfied: pytz>=2020.1 in c:\\users\\luanc\\appdata\\local\\programs\\python\\python310\\lib\\site-packages (from pandas->datasets) (2023.3)\n",
            "Requirement already satisfied: tzdata>=2022.1 in c:\\users\\luanc\\appdata\\local\\programs\\python\\python310\\lib\\site-packages (from pandas->datasets) (2023.3)\n",
            "Requirement already satisfied: six>=1.5 in c:\\users\\luanc\\appdata\\roaming\\python\\python310\\site-packages (from python-dateutil>=2.8.2->pandas->datasets) (1.16.0)\n",
            "Requirement already satisfied: accelerate in c:\\users\\luanc\\appdata\\local\\programs\\python\\python310\\lib\\site-packages (0.20.3)\n",
            "Requirement already satisfied: numpy>=1.17 in c:\\users\\luanc\\appdata\\local\\programs\\python\\python310\\lib\\site-packages (from accelerate) (1.23.5)\n",
            "Requirement already satisfied: packaging>=20.0 in c:\\users\\luanc\\appdata\\roaming\\python\\python310\\site-packages (from accelerate) (23.1)\n",
            "Requirement already satisfied: psutil in c:\\users\\luanc\\appdata\\roaming\\python\\python310\\site-packages (from accelerate) (5.9.5)\n",
            "Requirement already satisfied: pyyaml in c:\\users\\luanc\\appdata\\local\\programs\\python\\python310\\lib\\site-packages (from accelerate) (6.0)\n",
            "Requirement already satisfied: torch>=1.6.0 in c:\\users\\luanc\\appdata\\local\\programs\\python\\python310\\lib\\site-packages (from accelerate) (2.0.1)\n",
            "Requirement already satisfied: filelock in c:\\users\\luanc\\appdata\\local\\programs\\python\\python310\\lib\\site-packages (from torch>=1.6.0->accelerate) (3.12.1)\n",
            "Requirement already satisfied: typing-extensions in c:\\users\\luanc\\appdata\\local\\programs\\python\\python310\\lib\\site-packages (from torch>=1.6.0->accelerate) (4.6.3)\n",
            "Requirement already satisfied: sympy in c:\\users\\luanc\\appdata\\local\\programs\\python\\python310\\lib\\site-packages (from torch>=1.6.0->accelerate) (1.12)\n",
            "Requirement already satisfied: networkx in c:\\users\\luanc\\appdata\\local\\programs\\python\\python310\\lib\\site-packages (from torch>=1.6.0->accelerate) (3.1)\n",
            "Requirement already satisfied: jinja2 in c:\\users\\luanc\\appdata\\local\\programs\\python\\python310\\lib\\site-packages (from torch>=1.6.0->accelerate) (3.1.2)\n",
            "Requirement already satisfied: MarkupSafe>=2.0 in c:\\users\\luanc\\appdata\\local\\programs\\python\\python310\\lib\\site-packages (from jinja2->torch>=1.6.0->accelerate) (2.1.3)\n",
            "Requirement already satisfied: mpmath>=0.19 in c:\\users\\luanc\\appdata\\local\\programs\\python\\python310\\lib\\site-packages (from sympy->torch>=1.6.0->accelerate) (1.3.0)\n",
            "Requirement already satisfied: transformers in c:\\users\\luanc\\appdata\\local\\programs\\python\\python310\\lib\\site-packages (4.30.2)\n",
            "Requirement already satisfied: filelock in c:\\users\\luanc\\appdata\\local\\programs\\python\\python310\\lib\\site-packages (from transformers) (3.12.1)\n",
            "Requirement already satisfied: huggingface-hub<1.0,>=0.14.1 in c:\\users\\luanc\\appdata\\local\\programs\\python\\python310\\lib\\site-packages (from transformers) (0.15.1)\n",
            "Requirement already satisfied: numpy>=1.17 in c:\\users\\luanc\\appdata\\local\\programs\\python\\python310\\lib\\site-packages (from transformers) (1.23.5)\n",
            "Requirement already satisfied: packaging>=20.0 in c:\\users\\luanc\\appdata\\roaming\\python\\python310\\site-packages (from transformers) (23.1)\n",
            "Requirement already satisfied: pyyaml>=5.1 in c:\\users\\luanc\\appdata\\local\\programs\\python\\python310\\lib\\site-packages (from transformers) (6.0)\n",
            "Requirement already satisfied: regex!=2019.12.17 in c:\\users\\luanc\\appdata\\local\\programs\\python\\python310\\lib\\site-packages (from transformers) (2023.5.5)\n",
            "Requirement already satisfied: requests in c:\\users\\luanc\\appdata\\local\\programs\\python\\python310\\lib\\site-packages (from transformers) (2.31.0)\n",
            "Requirement already satisfied: tokenizers!=0.11.3,<0.14,>=0.11.1 in c:\\users\\luanc\\appdata\\local\\programs\\python\\python310\\lib\\site-packages (from transformers) (0.13.3)\n",
            "Requirement already satisfied: safetensors>=0.3.1 in c:\\users\\luanc\\appdata\\local\\programs\\python\\python310\\lib\\site-packages (from transformers) (0.3.1)\n",
            "Requirement already satisfied: tqdm>=4.27 in c:\\users\\luanc\\appdata\\local\\programs\\python\\python310\\lib\\site-packages (from transformers) (4.65.0)\n",
            "Requirement already satisfied: fsspec in c:\\users\\luanc\\appdata\\local\\programs\\python\\python310\\lib\\site-packages (from huggingface-hub<1.0,>=0.14.1->transformers) (2023.6.0)\n",
            "Requirement already satisfied: typing-extensions>=3.7.4.3 in c:\\users\\luanc\\appdata\\local\\programs\\python\\python310\\lib\\site-packages (from huggingface-hub<1.0,>=0.14.1->transformers) (4.6.3)\n",
            "Requirement already satisfied: colorama in c:\\users\\luanc\\appdata\\local\\programs\\python\\python310\\lib\\site-packages (from tqdm>=4.27->transformers) (0.4.6)\n",
            "Requirement already satisfied: charset-normalizer<4,>=2 in c:\\users\\luanc\\appdata\\local\\programs\\python\\python310\\lib\\site-packages (from requests->transformers) (3.1.0)\n",
            "Requirement already satisfied: idna<4,>=2.5 in c:\\users\\luanc\\appdata\\local\\programs\\python\\python310\\lib\\site-packages (from requests->transformers) (3.4)\n",
            "Requirement already satisfied: urllib3<3,>=1.21.1 in c:\\users\\luanc\\appdata\\local\\programs\\python\\python310\\lib\\site-packages (from requests->transformers) (1.26.16)\n",
            "Requirement already satisfied: certifi>=2017.4.17 in c:\\users\\luanc\\appdata\\local\\programs\\python\\python310\\lib\\site-packages (from requests->transformers) (2023.5.7)\n"
          ]
        }
      ],
      "source": [
        "! pip install transformers datasets evaluate seqeval\n",
        "! pip install -U accelerate\n",
        "! pip install -U transformers"
      ]
    },
    {
      "attachments": {},
      "cell_type": "markdown",
      "metadata": {},
      "source": [
        "Importando bibliotecas"
      ]
    },
    {
      "cell_type": "code",
      "execution_count": 3,
      "metadata": {
        "id": "RYNGgtEXJ0tt"
      },
      "outputs": [],
      "source": [
        "import numpy as np\n",
        "import os \n",
        "import pandas as pd\n",
        "import datasets\n",
        "import torch\n",
        "from transformers import pipeline\n",
        "from transformers import AutoTokenizer\n",
        "from transformers import DataCollatorForTokenClassification\n",
        "from transformers import AutoModelForTokenClassification\n",
        "from transformers import TrainingArguments, Trainer\n",
        "from datasets import Dataset\n",
        "import evaluate\n",
        "from transformers import AutoModelForTokenClassification\n",
        "from sklearn.metrics import classification_report\n",
        "from sklearn.metrics import confusion_matrix\n",
        "import matplotlib.pyplot as plt\n",
        "import seaborn as sns"
      ]
    },
    {
      "attachments": {},
      "cell_type": "markdown",
      "metadata": {},
      "source": [
        "Leitura do dataset"
      ]
    },
    {
      "cell_type": "code",
      "execution_count": 4,
      "metadata": {
        "colab": {
          "base_uri": "https://localhost:8080/",
          "height": 86,
          "referenced_widgets": [
            "387299c155bf487c836b76ee4aa1788d",
            "da802e1cba23495d94ec54e5ccd4af9f",
            "195bde243bee4e07abd7c5d231390747",
            "722f8d02c90342efbd1414a769fb4e38",
            "157c7c14da83437080b5a2c7c9d222df",
            "e82c8ee1d88f4a05abe6d15ed82f030c",
            "95217025a0b44e60b776c70ced366d05",
            "3cf3a1d8ceca4168a02894d10e5069e5",
            "72ea3caf94564cee89c20b882e8780e7",
            "0b3371a4617a4f04a7a92b67ed1b04f8",
            "95221a51cef54eb9a8ae2ed29fe9c4cc"
          ]
        },
        "id": "_pBzAefWGd3a",
        "outputId": "9c35fe4c-59e2-4f22-8fc5-365a026d48d4"
      },
      "outputs": [],
      "source": [
        "dataset = datasets.load_from_disk(\"../dataset\")"
      ]
    },
    {
      "attachments": {},
      "cell_type": "markdown",
      "metadata": {},
      "source": [
        "Informação do dataset"
      ]
    },
    {
      "cell_type": "code",
      "execution_count": 6,
      "metadata": {
        "colab": {
          "base_uri": "https://localhost:8080/"
        },
        "id": "KpEH2g9fgYNX",
        "outputId": "80865bf0-3fba-4b3b-8b45-6277f2eef481"
      },
      "outputs": [
        {
          "data": {
            "text/plain": [
              "DatasetDict({\n",
              "    train: Dataset({\n",
              "        features: ['id', 'tokens', 'ner_tags'],\n",
              "        num_rows: 7828\n",
              "    })\n",
              "    validation: Dataset({\n",
              "        features: ['id', 'tokens', 'ner_tags'],\n",
              "        num_rows: 1177\n",
              "    })\n",
              "    test: Dataset({\n",
              "        features: ['id', 'tokens', 'ner_tags'],\n",
              "        num_rows: 1390\n",
              "    })\n",
              "})"
            ]
          },
          "execution_count": 6,
          "metadata": {},
          "output_type": "execute_result"
        }
      ],
      "source": [
        "dataset"
      ]
    },
    {
      "cell_type": "code",
      "execution_count": 7,
      "metadata": {
        "colab": {
          "base_uri": "https://localhost:8080/"
        },
        "id": "naSAvqTngzKa",
        "outputId": "f504ca7c-22f5-4194-daad-c6f0dc9b2154"
      },
      "outputs": [
        {
          "name": "stdout",
          "output_type": "stream",
          "text": [
            "\n",
            "LeNER-Br is a Portuguese language dataset for named entity recognition\n",
            "applied to legal documents. LeNER-Br consists entirely of manually annotated\n",
            "legislation and legal cases texts and contains tags for persons, locations,\n",
            "time entities, organizations, legislation and legal cases.\n",
            "To compose the dataset, 66 legal documents from several Brazilian Courts were\n",
            "collected. Courts of superior and state levels were considered, such as Supremo\n",
            "Tribunal Federal, Superior Tribunal de Justiça, Tribunal de Justiça de Minas\n",
            "Gerais and Tribunal de Contas da União. In addition, four legislation documents\n",
            "were collected, such as \"Lei Maria da Penha\", giving a total of 70 documents\n",
            "\n"
          ]
        }
      ],
      "source": [
        "print(dataset['train'].description)"
      ]
    },
    {
      "attachments": {},
      "cell_type": "markdown",
      "metadata": {},
      "source": [
        "Convertendo para pandas dataframe"
      ]
    },
    {
      "cell_type": "code",
      "execution_count": 8,
      "metadata": {},
      "outputs": [],
      "source": [
        "df_train = pd.DataFrame(dataset['train'])\n",
        "df_validation = pd.DataFrame(dataset['validation'])\n",
        "df_test = pd.DataFrame(dataset['test'])"
      ]
    },
    {
      "cell_type": "code",
      "execution_count": 9,
      "metadata": {},
      "outputs": [
        {
          "data": {
            "text/html": [
              "<div>\n",
              "<style scoped>\n",
              "    .dataframe tbody tr th:only-of-type {\n",
              "        vertical-align: middle;\n",
              "    }\n",
              "\n",
              "    .dataframe tbody tr th {\n",
              "        vertical-align: top;\n",
              "    }\n",
              "\n",
              "    .dataframe thead th {\n",
              "        text-align: right;\n",
              "    }\n",
              "</style>\n",
              "<table border=\"1\" class=\"dataframe\">\n",
              "  <thead>\n",
              "    <tr style=\"text-align: right;\">\n",
              "      <th></th>\n",
              "      <th>id</th>\n",
              "      <th>tokens</th>\n",
              "      <th>ner_tags</th>\n",
              "    </tr>\n",
              "  </thead>\n",
              "  <tbody>\n",
              "    <tr>\n",
              "      <th>7827</th>\n",
              "      <td>7827</td>\n",
              "      <td>[]</td>\n",
              "      <td>[]</td>\n",
              "    </tr>\n",
              "  </tbody>\n",
              "</table>\n",
              "</div>"
            ],
            "text/plain": [
              "        id tokens ner_tags\n",
              "7827  7827     []       []"
            ]
          },
          "execution_count": 9,
          "metadata": {},
          "output_type": "execute_result"
        }
      ],
      "source": [
        "df_train[df_train['tokens'].apply(lambda x: len(x) == 0)]"
      ]
    },
    {
      "attachments": {},
      "cell_type": "markdown",
      "metadata": {},
      "source": [
        "Removendo linhas que não deveriam estar no dataset"
      ]
    },
    {
      "cell_type": "code",
      "execution_count": 10,
      "metadata": {},
      "outputs": [],
      "source": [
        "df_train = df_train[df_train['tokens'].apply(lambda x: len(x) > 0)]\n",
        "df_validation = df_validation[df_validation['tokens'].apply(lambda x: len(x) > 0)]\n",
        "df_test = df_test[df_test['tokens'].apply(lambda x: len(x) > 0)]"
      ]
    },
    {
      "attachments": {},
      "cell_type": "markdown",
      "metadata": {},
      "source": [
        "Utilizando tokenizer BERTimbau base portuguese cased. https://huggingface.co/neuralmind/bert-base-portuguese-cased"
      ]
    },
    {
      "cell_type": "code",
      "execution_count": 11,
      "metadata": {
        "id": "3bhcGtlvJqtf"
      },
      "outputs": [],
      "source": [
        "tokenizer = AutoTokenizer.from_pretrained('neuralmind/bert-base-portuguese-cased')"
      ]
    },
    {
      "attachments": {},
      "cell_type": "markdown",
      "metadata": {},
      "source": [
        "Comparando tokenização com separação do dataset"
      ]
    },
    {
      "cell_type": "code",
      "execution_count": 12,
      "metadata": {
        "id": "omOm_jXohq_L"
      },
      "outputs": [],
      "source": [
        "example = dataset['train'][1]\n",
        "tokenized_input = tokenizer(example['tokens'], is_split_into_words = True)\n",
        "tokens = tokenizer.convert_ids_to_tokens(tokenized_input['input_ids'])\n",
        "word_ids = tokenized_input.word_ids()"
      ]
    },
    {
      "cell_type": "code",
      "execution_count": 13,
      "metadata": {
        "colab": {
          "base_uri": "https://localhost:8080/"
        },
        "id": "xnBogx6miuSy",
        "outputId": "26b82eb3-8188-49bb-97d7-598af00a41d9"
      },
      "outputs": [
        {
          "data": {
            "text/plain": [
              "(55, 67)"
            ]
          },
          "execution_count": 13,
          "metadata": {},
          "output_type": "execute_result"
        }
      ],
      "source": [
        "len(example['tokens']), len(tokens)"
      ]
    },
    {
      "cell_type": "code",
      "execution_count": 14,
      "metadata": {
        "colab": {
          "base_uri": "https://localhost:8080/"
        },
        "id": "vV5BGapa8prj",
        "outputId": "86b8ecc4-f594-4659-d2c3-6c1aa173fc15"
      },
      "outputs": [
        {
          "data": {
            "text/plain": [
              "array(['-', 'O', 'art', '.', '178', ',', 'II', ',', 'do', 'CPC',\n",
              "       'prescreve', 'que', 'compete', 'ao', 'Ministério', 'Público',\n",
              "       'intervir', 'nas', 'causas', 'em', 'que', 'há', 'interesses', 'de',\n",
              "       'incapazes', ',', 'dispondo', 'o', 'art', '.', '279', 'do',\n",
              "       'mesmo', 'diploma', 'que', 'o', 'processo', 'será', 'nulo',\n",
              "       'quando', 'o', 'Ministério', 'Público', 'não', 'for', 'intimado',\n",
              "       'para', 'acompanhar', 'o', 'feito', 'em', 'que', 'deve',\n",
              "       'intervir', '.'], dtype='<U10')"
            ]
          },
          "execution_count": 14,
          "metadata": {},
          "output_type": "execute_result"
        }
      ],
      "source": [
        "np.array(example['tokens'])"
      ]
    },
    {
      "cell_type": "code",
      "execution_count": 15,
      "metadata": {
        "colab": {
          "base_uri": "https://localhost:8080/"
        },
        "id": "Tk9KZVpUkptp",
        "outputId": "1898b28c-ab38-4816-82a7-f6df50468547"
      },
      "outputs": [
        {
          "data": {
            "text/plain": [
              "array(['[CLS]', '-', 'O', 'art', '.', '178', ',', 'II', ',', 'do', 'CP',\n",
              "       '##C', 'pres', '##cre', '##ve', 'que', 'compet', '##e', 'ao',\n",
              "       'Ministério', 'Público', 'inter', '##vir', 'nas', 'causas', 'em',\n",
              "       'que', 'há', 'interesses', 'de', 'incapazes', ',', 'dispon',\n",
              "       '##do', 'o', 'art', '.', '27', '##9', 'do', 'mesmo', 'diploma',\n",
              "       'que', 'o', 'processo', 'será', 'nu', '##lo', 'quando', 'o',\n",
              "       'Ministério', 'Público', 'não', 'for', 'intim', '##ado', 'para',\n",
              "       'acompanhar', 'o', 'feito', 'em', 'que', 'deve', 'inter', '##vir',\n",
              "       '.', '[SEP]'], dtype='<U10')"
            ]
          },
          "execution_count": 15,
          "metadata": {},
          "output_type": "execute_result"
        }
      ],
      "source": [
        "np.array(tokens)"
      ]
    },
    {
      "attachments": {},
      "cell_type": "markdown",
      "metadata": {},
      "source": [
        "O tokenizer cria caracteres especiais '[CLS]' e '[SEP'], além de cortar palavras. A função abaixo contorna o problema ao atribuir - 100 aos caracteres especiais e tokens no meio das palavras."
      ]
    },
    {
      "cell_type": "code",
      "execution_count": 16,
      "metadata": {
        "id": "HAperYvpJ9VI"
      },
      "outputs": [],
      "source": [
        "def tokenize_and_align_labels(examples):\n",
        "    tokenized_inputs = tokenizer(examples[\"tokens\"], truncation=True, is_split_into_words=True)\n",
        "\n",
        "    labels = []\n",
        "    for i, label in enumerate(examples[f\"ner_tags\"]):\n",
        "        word_ids = tokenized_inputs.word_ids(batch_index=i)  # Map tokens to their respective word.\n",
        "        previous_word_idx = None\n",
        "        label_ids = []\n",
        "        for word_idx in word_ids:  # Set the special tokens to -100.\n",
        "            if word_idx is None:\n",
        "                label_ids.append(-100)\n",
        "            elif word_idx != previous_word_idx:  # Only label the first token of a given word.\n",
        "                label_ids.append(label[word_idx])\n",
        "            else:\n",
        "                label_ids.append(-100)\n",
        "            previous_word_idx = word_idx\n",
        "        labels.append(label_ids)\n",
        "\n",
        "    tokenized_inputs[\"labels\"] = labels\n",
        "    return tokenized_inputs"
      ]
    },
    {
      "cell_type": "code",
      "execution_count": 17,
      "metadata": {
        "id": "Lcj6GSIsmiAR"
      },
      "outputs": [
        {
          "name": "stderr",
          "output_type": "stream",
          "text": [
            "Asking to truncate to max_length but no maximum length is provided and the model has no predefined maximum length. Default to no truncation.\n"
          ]
        }
      ],
      "source": [
        "q = tokenize_and_align_labels(dataset['train'][1:2])"
      ]
    },
    {
      "cell_type": "code",
      "execution_count": 18,
      "metadata": {
        "colab": {
          "base_uri": "https://localhost:8080/"
        },
        "id": "k8UWZHIe6qxB",
        "outputId": "8374ff4f-aa2f-4c20-9a96-a99ac17baa44"
      },
      "outputs": [
        {
          "name": "stdout",
          "output_type": "stream",
          "text": [
            "[CLS]___________________________________ -100\n",
            "-_______________________________________ 0\n",
            "O_______________________________________ 0\n",
            "art_____________________________________ 9\n",
            "._______________________________________ 10\n",
            "178_____________________________________ 10\n",
            ",_______________________________________ 10\n",
            "II______________________________________ 10\n",
            ",_______________________________________ 10\n",
            "do______________________________________ 10\n",
            "CP______________________________________ 10\n",
            "##C_____________________________________ -100\n",
            "pres____________________________________ 0\n",
            "##cre___________________________________ -100\n",
            "##ve____________________________________ -100\n",
            "que_____________________________________ 0\n",
            "compet__________________________________ 0\n",
            "##e_____________________________________ -100\n",
            "ao______________________________________ 0\n",
            "Ministério______________________________ 1\n",
            "Público_________________________________ 2\n",
            "inter___________________________________ 0\n",
            "##vir___________________________________ -100\n",
            "nas_____________________________________ 0\n",
            "causas__________________________________ 0\n",
            "em______________________________________ 0\n",
            "que_____________________________________ 0\n",
            "há______________________________________ 0\n",
            "interesses______________________________ 0\n",
            "de______________________________________ 0\n",
            "incapazes_______________________________ 0\n",
            ",_______________________________________ 0\n",
            "dispon__________________________________ 0\n",
            "##do____________________________________ -100\n",
            "o_______________________________________ 0\n",
            "art_____________________________________ 0\n",
            "._______________________________________ 0\n",
            "27______________________________________ 0\n",
            "##9_____________________________________ -100\n",
            "do______________________________________ 0\n",
            "mesmo___________________________________ 0\n",
            "diploma_________________________________ 0\n",
            "que_____________________________________ 0\n",
            "o_______________________________________ 0\n",
            "processo________________________________ 0\n",
            "será____________________________________ 0\n",
            "nu______________________________________ 0\n",
            "##lo____________________________________ -100\n",
            "quando__________________________________ 0\n",
            "o_______________________________________ 0\n",
            "Ministério______________________________ 1\n",
            "Público_________________________________ 2\n",
            "não_____________________________________ 0\n",
            "for_____________________________________ 0\n",
            "intim___________________________________ 0\n",
            "##ado___________________________________ -100\n",
            "para____________________________________ 0\n",
            "acompanhar______________________________ 0\n",
            "o_______________________________________ 0\n",
            "feito___________________________________ 0\n",
            "em______________________________________ 0\n",
            "que_____________________________________ 0\n",
            "deve____________________________________ 0\n",
            "inter___________________________________ 0\n",
            "##vir___________________________________ -100\n",
            "._______________________________________ 0\n",
            "[SEP]___________________________________ -100\n"
          ]
        }
      ],
      "source": [
        "for token, label in zip(tokenizer.convert_ids_to_tokens(q['input_ids'][0]), q['labels'][0]):\n",
        "  print(f\"{token:_<40} {label}\")"
      ]
    },
    {
      "attachments": {},
      "cell_type": "markdown",
      "metadata": {},
      "source": [
        "Criando dataset com função acima aplicada."
      ]
    },
    {
      "cell_type": "code",
      "execution_count": 19,
      "metadata": {
        "colab": {
          "base_uri": "https://localhost:8080/"
        },
        "id": "D9TQUPUSAnXm",
        "outputId": "a8dfe57d-dfa1-4936-dcca-ffd5b63e21f0"
      },
      "outputs": [
        {
          "name": "stderr",
          "output_type": "stream",
          "text": [
            "Loading cached processed dataset at C:\\Users\\luanc\\.cache\\huggingface\\datasets\\lener_br\\lener_br\\1.0.0\\4a8c97e6813b5c2d85a50faf0a3e6c24ea82f4a9044e6e9e8b24997d27399382\\cache-b5e3af25a796df75.arrow\n",
            "Loading cached processed dataset at C:\\Users\\luanc\\.cache\\huggingface\\datasets\\lener_br\\lener_br\\1.0.0\\4a8c97e6813b5c2d85a50faf0a3e6c24ea82f4a9044e6e9e8b24997d27399382\\cache-836f212fc79f7d78.arrow\n",
            "Loading cached processed dataset at C:\\Users\\luanc\\.cache\\huggingface\\datasets\\lener_br\\lener_br\\1.0.0\\4a8c97e6813b5c2d85a50faf0a3e6c24ea82f4a9044e6e9e8b24997d27399382\\cache-500a7b4b2177cbe5.arrow\n"
          ]
        }
      ],
      "source": [
        "tokenized_dataset = dataset.map(tokenize_and_align_labels, batched=True)"
      ]
    },
    {
      "cell_type": "code",
      "execution_count": 22,
      "metadata": {
        "colab": {
          "base_uri": "https://localhost:8080/"
        },
        "id": "H8Iq1ST28Uxv",
        "outputId": "f9a0ce3b-6207-434b-9e72-94cfff365190"
      },
      "outputs": [
        {
          "data": {
            "text/plain": [
              "['O',\n",
              " 'B-ORGANIZACAO',\n",
              " 'I-ORGANIZACAO',\n",
              " 'B-PESSOA',\n",
              " 'I-PESSOA',\n",
              " 'B-TEMPO',\n",
              " 'I-TEMPO',\n",
              " 'B-LOCAL',\n",
              " 'I-LOCAL',\n",
              " 'B-LEGISLACAO',\n",
              " 'I-LEGISLACAO',\n",
              " 'B-JURISPRUDENCIA',\n",
              " 'I-JURISPRUDENCIA']"
            ]
          },
          "execution_count": 22,
          "metadata": {},
          "output_type": "execute_result"
        }
      ],
      "source": [
        "label_list = dataset['train'].features['ner_tags'].feature.names\n",
        "label_list"
      ]
    },
    {
      "cell_type": "code",
      "execution_count": 23,
      "metadata": {
        "id": "mIfuuyI_9ym5"
      },
      "outputs": [],
      "source": [
        "data_collator = DataCollatorForTokenClassification(tokenizer=tokenizer)"
      ]
    },
    {
      "cell_type": "code",
      "execution_count": 24,
      "metadata": {
        "id": "uOxxbosc99ii"
      },
      "outputs": [],
      "source": [
        "seqeval = evaluate.load(\"seqeval\")"
      ]
    },
    {
      "cell_type": "code",
      "execution_count": 25,
      "metadata": {
        "id": "x9u8HUWHBQX-"
      },
      "outputs": [],
      "source": [
        "import numpy as np\n",
        "\n",
        "labels = [label_list]\n",
        "\n",
        "\n",
        "def compute_metrics(p):\n",
        "    predictions, labels = p\n",
        "    predictions = np.argmax(predictions, axis=2)\n",
        "\n",
        "    true_predictions = [\n",
        "        [label_list[p] for (p, l) in zip(prediction, label) if l != -100]\n",
        "        for prediction, label in zip(predictions, labels)\n",
        "    ]\n",
        "    true_labels = [\n",
        "        [label_list[l] for (p, l) in zip(prediction, label) if l != -100]\n",
        "        for prediction, label in zip(predictions, labels)\n",
        "    ]\n",
        "\n",
        "    results = seqeval.compute(predictions=true_predictions, references=true_labels)\n",
        "    return {\n",
        "        \"precision\": results[\"overall_precision\"],\n",
        "        \"recall\": results[\"overall_recall\"],\n",
        "        \"f1\": results[\"overall_f1\"],\n",
        "        \"accuracy\": results[\"overall_accuracy\"],\n",
        "    }"
      ]
    },
    {
      "cell_type": "code",
      "execution_count": 26,
      "metadata": {
        "id": "L7vsSogn-l9G"
      },
      "outputs": [],
      "source": [
        "id2label = {\n",
        "    0: \"sem label\",\n",
        "    1: \"B-ORGANIZACAO\",\n",
        "    2: \"I-ORGANIZACAO\",\n",
        "    3: \"B-PESSOA\",\n",
        "    4: \"I-PESSOA\",\n",
        "    5: \"B-TEMPO\",\n",
        "    6: \"I-TEMPO\",\n",
        "    7: \"B-LOCAL\",\n",
        "    8: \"I-LOCAL\",\n",
        "    9: \"B-LEGISLACAO\",\n",
        "    10: \"I-LEGISLACAO\",\n",
        "    11: \"B-JURISPRUDENCIA\",\n",
        "    12: \"I-JURISPRUDENCIA\"\n",
        "}"
      ]
    },
    {
      "cell_type": "code",
      "execution_count": 27,
      "metadata": {
        "id": "1uLJaxaP_IsH"
      },
      "outputs": [],
      "source": [
        "label2id = {\n",
        "    \"sem label\": 0,\n",
        "    \"B-ORGANIZACAO\": 1,\n",
        "    \"I-ORGANIZACAO\": 2,\n",
        "    \"B-PESSOA\": 3,\n",
        "    \"I-PESSOA\": 4,\n",
        "    \"B-TEMPO\": 5,\n",
        "    \"I-TEMPO\": 6,\n",
        "    \"B-LOCAL\": 7,\n",
        "    \"I-LOCAL\": 8,\n",
        "    \"B-LEGISLACAO\": 9,\n",
        "    \"I-LEGISLACAO\": 10,\n",
        "    \"B-JURISPRUDENCIA\": 11,\n",
        "    \"I-JURISPRUDENCIA\": 12\n",
        "}"
      ]
    },
    {
      "attachments": {},
      "cell_type": "markdown",
      "metadata": {},
      "source": [
        "Finetune dos dados utilizando LeNER-Br tokenizado"
      ]
    },
    {
      "cell_type": "code",
      "execution_count": 28,
      "metadata": {
        "colab": {
          "base_uri": "https://localhost:8080/"
        },
        "id": "gu1u9-WxO1oc",
        "outputId": "85b7cb89-4b2c-4eab-c103-7dd6708a8d8d"
      },
      "outputs": [],
      "source": [
        "\n",
        "model = AutoModelForTokenClassification.from_pretrained(\n",
        "    'neuralmind/bert-base-portuguese-cased', num_labels=13, id2label=id2label, label2id=label2id\n",
        ")\n",
        "\n",
        "training_args = TrainingArguments(\n",
        "    output_dir = '\\\\bert-fine-tuned',\n",
        "    learning_rate=2e-5,\n",
        "    per_device_train_batch_size=4,\n",
        "    per_device_eval_batch_size=4,\n",
        "    num_train_epochs=15,\n",
        "    weight_decay=0.01,\n",
        "    evaluation_strategy=\"epoch\",\n",
        "    save_strategy=\"epoch\",\n",
        "    load_best_model_at_end=True,\n",
        "    push_to_hub = False,\n",
        ")\n",
        "\n",
        "trainer = Trainer(\n",
        "    model=model,\n",
        "    args=training_args,\n",
        "    train_dataset=tokenized_dataset[\"train\"],\n",
        "    eval_dataset=tokenized_dataset[\"test\"],\n",
        "    tokenizer=tokenizer,\n",
        "    data_collator=data_collator,\n",
        "    compute_metrics=compute_metrics,\n",
        ")\n",
        "\n",
        "trainer.train()"
      ]
    },
    {
      "attachments": {},
      "cell_type": "markdown",
      "metadata": {},
      "source": [
        "Salvar dados"
      ]
    },
    {
      "cell_type": "code",
      "execution_count": null,
      "metadata": {},
      "outputs": [],
      "source": [
        "model.save_pretrained(\"bertimbau-base-lener-br\")\n",
        "tokenizer.save_pretrained(\"bertimbau-base-lener-br\")"
      ]
    }
  ],
  "metadata": {
    "colab": {
      "provenance": []
    },
    "kernelspec": {
      "display_name": "Python 3",
      "name": "python3"
    },
    "language_info": {
      "codemirror_mode": {
        "name": "ipython",
        "version": 3
      },
      "file_extension": ".py",
      "mimetype": "text/x-python",
      "name": "python",
      "nbconvert_exporter": "python",
      "pygments_lexer": "ipython3",
      "version": "3.10.9"
    },
    "widgets": {
      "application/vnd.jupyter.widget-state+json": {
        "0b3371a4617a4f04a7a92b67ed1b04f8": {
          "model_module": "@jupyter-widgets/base",
          "model_module_version": "1.2.0",
          "model_name": "LayoutModel",
          "state": {
            "_model_module": "@jupyter-widgets/base",
            "_model_module_version": "1.2.0",
            "_model_name": "LayoutModel",
            "_view_count": null,
            "_view_module": "@jupyter-widgets/base",
            "_view_module_version": "1.2.0",
            "_view_name": "LayoutView",
            "align_content": null,
            "align_items": null,
            "align_self": null,
            "border": null,
            "bottom": null,
            "display": null,
            "flex": null,
            "flex_flow": null,
            "grid_area": null,
            "grid_auto_columns": null,
            "grid_auto_flow": null,
            "grid_auto_rows": null,
            "grid_column": null,
            "grid_gap": null,
            "grid_row": null,
            "grid_template_areas": null,
            "grid_template_columns": null,
            "grid_template_rows": null,
            "height": null,
            "justify_content": null,
            "justify_items": null,
            "left": null,
            "margin": null,
            "max_height": null,
            "max_width": null,
            "min_height": null,
            "min_width": null,
            "object_fit": null,
            "object_position": null,
            "order": null,
            "overflow": null,
            "overflow_x": null,
            "overflow_y": null,
            "padding": null,
            "right": null,
            "top": null,
            "visibility": null,
            "width": null
          }
        },
        "157c7c14da83437080b5a2c7c9d222df": {
          "model_module": "@jupyter-widgets/base",
          "model_module_version": "1.2.0",
          "model_name": "LayoutModel",
          "state": {
            "_model_module": "@jupyter-widgets/base",
            "_model_module_version": "1.2.0",
            "_model_name": "LayoutModel",
            "_view_count": null,
            "_view_module": "@jupyter-widgets/base",
            "_view_module_version": "1.2.0",
            "_view_name": "LayoutView",
            "align_content": null,
            "align_items": null,
            "align_self": null,
            "border": null,
            "bottom": null,
            "display": null,
            "flex": null,
            "flex_flow": null,
            "grid_area": null,
            "grid_auto_columns": null,
            "grid_auto_flow": null,
            "grid_auto_rows": null,
            "grid_column": null,
            "grid_gap": null,
            "grid_row": null,
            "grid_template_areas": null,
            "grid_template_columns": null,
            "grid_template_rows": null,
            "height": null,
            "justify_content": null,
            "justify_items": null,
            "left": null,
            "margin": null,
            "max_height": null,
            "max_width": null,
            "min_height": null,
            "min_width": null,
            "object_fit": null,
            "object_position": null,
            "order": null,
            "overflow": null,
            "overflow_x": null,
            "overflow_y": null,
            "padding": null,
            "right": null,
            "top": null,
            "visibility": null,
            "width": null
          }
        },
        "195bde243bee4e07abd7c5d231390747": {
          "model_module": "@jupyter-widgets/controls",
          "model_module_version": "1.5.0",
          "model_name": "FloatProgressModel",
          "state": {
            "_dom_classes": [],
            "_model_module": "@jupyter-widgets/controls",
            "_model_module_version": "1.5.0",
            "_model_name": "FloatProgressModel",
            "_view_count": null,
            "_view_module": "@jupyter-widgets/controls",
            "_view_module_version": "1.5.0",
            "_view_name": "ProgressView",
            "bar_style": "success",
            "description": "",
            "description_tooltip": null,
            "layout": "IPY_MODEL_3cf3a1d8ceca4168a02894d10e5069e5",
            "max": 3,
            "min": 0,
            "orientation": "horizontal",
            "style": "IPY_MODEL_72ea3caf94564cee89c20b882e8780e7",
            "value": 3
          }
        },
        "387299c155bf487c836b76ee4aa1788d": {
          "model_module": "@jupyter-widgets/controls",
          "model_module_version": "1.5.0",
          "model_name": "HBoxModel",
          "state": {
            "_dom_classes": [],
            "_model_module": "@jupyter-widgets/controls",
            "_model_module_version": "1.5.0",
            "_model_name": "HBoxModel",
            "_view_count": null,
            "_view_module": "@jupyter-widgets/controls",
            "_view_module_version": "1.5.0",
            "_view_name": "HBoxView",
            "box_style": "",
            "children": [
              "IPY_MODEL_da802e1cba23495d94ec54e5ccd4af9f",
              "IPY_MODEL_195bde243bee4e07abd7c5d231390747",
              "IPY_MODEL_722f8d02c90342efbd1414a769fb4e38"
            ],
            "layout": "IPY_MODEL_157c7c14da83437080b5a2c7c9d222df"
          }
        },
        "3cf3a1d8ceca4168a02894d10e5069e5": {
          "model_module": "@jupyter-widgets/base",
          "model_module_version": "1.2.0",
          "model_name": "LayoutModel",
          "state": {
            "_model_module": "@jupyter-widgets/base",
            "_model_module_version": "1.2.0",
            "_model_name": "LayoutModel",
            "_view_count": null,
            "_view_module": "@jupyter-widgets/base",
            "_view_module_version": "1.2.0",
            "_view_name": "LayoutView",
            "align_content": null,
            "align_items": null,
            "align_self": null,
            "border": null,
            "bottom": null,
            "display": null,
            "flex": null,
            "flex_flow": null,
            "grid_area": null,
            "grid_auto_columns": null,
            "grid_auto_flow": null,
            "grid_auto_rows": null,
            "grid_column": null,
            "grid_gap": null,
            "grid_row": null,
            "grid_template_areas": null,
            "grid_template_columns": null,
            "grid_template_rows": null,
            "height": null,
            "justify_content": null,
            "justify_items": null,
            "left": null,
            "margin": null,
            "max_height": null,
            "max_width": null,
            "min_height": null,
            "min_width": null,
            "object_fit": null,
            "object_position": null,
            "order": null,
            "overflow": null,
            "overflow_x": null,
            "overflow_y": null,
            "padding": null,
            "right": null,
            "top": null,
            "visibility": null,
            "width": null
          }
        },
        "722f8d02c90342efbd1414a769fb4e38": {
          "model_module": "@jupyter-widgets/controls",
          "model_module_version": "1.5.0",
          "model_name": "HTMLModel",
          "state": {
            "_dom_classes": [],
            "_model_module": "@jupyter-widgets/controls",
            "_model_module_version": "1.5.0",
            "_model_name": "HTMLModel",
            "_view_count": null,
            "_view_module": "@jupyter-widgets/controls",
            "_view_module_version": "1.5.0",
            "_view_name": "HTMLView",
            "description": "",
            "description_tooltip": null,
            "layout": "IPY_MODEL_0b3371a4617a4f04a7a92b67ed1b04f8",
            "placeholder": "​",
            "style": "IPY_MODEL_95221a51cef54eb9a8ae2ed29fe9c4cc",
            "value": " 3/3 [00:00&lt;00:00, 84.73it/s]"
          }
        },
        "72ea3caf94564cee89c20b882e8780e7": {
          "model_module": "@jupyter-widgets/controls",
          "model_module_version": "1.5.0",
          "model_name": "ProgressStyleModel",
          "state": {
            "_model_module": "@jupyter-widgets/controls",
            "_model_module_version": "1.5.0",
            "_model_name": "ProgressStyleModel",
            "_view_count": null,
            "_view_module": "@jupyter-widgets/base",
            "_view_module_version": "1.2.0",
            "_view_name": "StyleView",
            "bar_color": null,
            "description_width": ""
          }
        },
        "95217025a0b44e60b776c70ced366d05": {
          "model_module": "@jupyter-widgets/controls",
          "model_module_version": "1.5.0",
          "model_name": "DescriptionStyleModel",
          "state": {
            "_model_module": "@jupyter-widgets/controls",
            "_model_module_version": "1.5.0",
            "_model_name": "DescriptionStyleModel",
            "_view_count": null,
            "_view_module": "@jupyter-widgets/base",
            "_view_module_version": "1.2.0",
            "_view_name": "StyleView",
            "description_width": ""
          }
        },
        "95221a51cef54eb9a8ae2ed29fe9c4cc": {
          "model_module": "@jupyter-widgets/controls",
          "model_module_version": "1.5.0",
          "model_name": "DescriptionStyleModel",
          "state": {
            "_model_module": "@jupyter-widgets/controls",
            "_model_module_version": "1.5.0",
            "_model_name": "DescriptionStyleModel",
            "_view_count": null,
            "_view_module": "@jupyter-widgets/base",
            "_view_module_version": "1.2.0",
            "_view_name": "StyleView",
            "description_width": ""
          }
        },
        "da802e1cba23495d94ec54e5ccd4af9f": {
          "model_module": "@jupyter-widgets/controls",
          "model_module_version": "1.5.0",
          "model_name": "HTMLModel",
          "state": {
            "_dom_classes": [],
            "_model_module": "@jupyter-widgets/controls",
            "_model_module_version": "1.5.0",
            "_model_name": "HTMLModel",
            "_view_count": null,
            "_view_module": "@jupyter-widgets/controls",
            "_view_module_version": "1.5.0",
            "_view_name": "HTMLView",
            "description": "",
            "description_tooltip": null,
            "layout": "IPY_MODEL_e82c8ee1d88f4a05abe6d15ed82f030c",
            "placeholder": "​",
            "style": "IPY_MODEL_95217025a0b44e60b776c70ced366d05",
            "value": "100%"
          }
        },
        "e82c8ee1d88f4a05abe6d15ed82f030c": {
          "model_module": "@jupyter-widgets/base",
          "model_module_version": "1.2.0",
          "model_name": "LayoutModel",
          "state": {
            "_model_module": "@jupyter-widgets/base",
            "_model_module_version": "1.2.0",
            "_model_name": "LayoutModel",
            "_view_count": null,
            "_view_module": "@jupyter-widgets/base",
            "_view_module_version": "1.2.0",
            "_view_name": "LayoutView",
            "align_content": null,
            "align_items": null,
            "align_self": null,
            "border": null,
            "bottom": null,
            "display": null,
            "flex": null,
            "flex_flow": null,
            "grid_area": null,
            "grid_auto_columns": null,
            "grid_auto_flow": null,
            "grid_auto_rows": null,
            "grid_column": null,
            "grid_gap": null,
            "grid_row": null,
            "grid_template_areas": null,
            "grid_template_columns": null,
            "grid_template_rows": null,
            "height": null,
            "justify_content": null,
            "justify_items": null,
            "left": null,
            "margin": null,
            "max_height": null,
            "max_width": null,
            "min_height": null,
            "min_width": null,
            "object_fit": null,
            "object_position": null,
            "order": null,
            "overflow": null,
            "overflow_x": null,
            "overflow_y": null,
            "padding": null,
            "right": null,
            "top": null,
            "visibility": null,
            "width": null
          }
        }
      }
    }
  },
  "nbformat": 4,
  "nbformat_minor": 0
}
